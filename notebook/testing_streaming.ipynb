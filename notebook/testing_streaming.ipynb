{
 "cells": [
  {
   "cell_type": "code",
   "execution_count": 22,
   "id": "637f6dbc",
   "metadata": {},
   "outputs": [],
   "source": [
    "from langchain_google_genai import ChatGoogleGenerativeAI\n",
    "from dotenv import load_dotenv, find_dotenv\n",
    "import os\n",
    "\n",
    "load_dotenv(find_dotenv(), override=True)\n",
    "\n",
    "model = ChatGoogleGenerativeAI(\n",
    "    model=\"gemini-2.0-flash-001\",\n",
    "    temperature=0,\n",
    "    max_tokens=None,\n",
    "    timeout=None,\n",
    "    max_retries=2,\n",
    "    google_api_key=os.getenv(\"GOOGLE_API_KEY\")\n",
    ")"
   ]
  },
  {
   "cell_type": "code",
   "execution_count": 27,
   "id": "c819c32e",
   "metadata": {},
   "outputs": [
    {
     "name": "stdout",
     "output_type": "stream",
     "text": [
      "A| sun|beam boy with hair of gold,\n",
      "A spirit bright, a story told.\n",
      "He laughs| aloud, a boisterous sound,\n",
      "Though loneliness has him surrounded.\n",
      "He|'s stubborn, brash, and never yields,\n",
      "On dreams of Hokage, his heart is sealed.\n",
      "A prankster's grin, a ramen| bowl,\n",
      "He fights for friends, to make them whole.\n",
      "With boundless hope, he lights the way,\n",
      "And turns the darkest night to day.|"
     ]
    }
   ],
   "source": [
    "chunks = []\n",
    "for chunk in model.stream(\"Write a poem about Naruto Uzumaki's personality in 10 sentences.\"):\n",
    "    chunks.append(chunk)\n",
    "    print(chunk.content, end=\"|\", flush=True)"
   ]
  },
  {
   "cell_type": "code",
   "execution_count": 32,
   "id": "9fd75f77",
   "metadata": {},
   "outputs": [
    {
     "data": {
      "text/plain": [
       "AIMessageChunk(content='A', additional_kwargs={}, response_metadata={'safety_ratings': []}, id='run-049f5b16-c99d-4f19-88ad-043e3609b0c6', usage_metadata={'input_tokens': 18, 'output_tokens': 0, 'total_tokens': 18, 'input_token_details': {'cache_read': 0}})"
      ]
     },
     "execution_count": 32,
     "metadata": {},
     "output_type": "execute_result"
    }
   ],
   "source": [
    "chunks[0]"
   ]
  },
  {
   "cell_type": "code",
   "execution_count": 30,
   "id": "79ab5143",
   "metadata": {},
   "outputs": [
    {
     "name": "stdout",
     "output_type": "stream",
     "text": [
      "A\n",
      "\n",
      " sun\n",
      "\n",
      "beam boy with hair of gold,\n",
      "A spirit bright, a story told.\n",
      "He laughs\n",
      "\n",
      " aloud, a boisterous sound,\n",
      "Though loneliness has him surrounded.\n",
      "He\n",
      "\n",
      "'s stubborn, brash, and never yields,\n",
      "On dreams of Hokage, his heart is sealed.\n",
      "A prankster's grin, a ramen\n",
      "\n",
      " bowl,\n",
      "He fights for friends, to make them whole.\n",
      "With boundless hope, he lights the way,\n",
      "And turns the darkest night to day.\n",
      "\n"
     ]
    }
   ],
   "source": [
    "for chunk in chunks:\n",
    "    print(chunk.content)\n",
    "    print()"
   ]
  },
  {
   "cell_type": "markdown",
   "id": "5e192fb0",
   "metadata": {},
   "source": [
    "# Chains"
   ]
  },
  {
   "cell_type": "code",
   "execution_count": 40,
   "id": "a2b62863",
   "metadata": {},
   "outputs": [
    {
     "name": "stdout",
     "output_type": "stream",
     "text": [
      "Why|\n",
      " did the parrot|\n",
      " get sent to his room?\n",
      "\n",
      "Because he kept squawking swear words!|\n"
     ]
    }
   ],
   "source": [
    "from langchain_core.output_parsers import StrOutputParser\n",
    "from langchain_core.prompts import ChatPromptTemplate\n",
    "\n",
    "prompt = ChatPromptTemplate.from_messages([\n",
    "    \"tell me a joke about {topic}\"\n",
    "])\n",
    "parser = StrOutputParser()\n",
    "chain= prompt | model | parser\n",
    "async for chunk in chain.astream({\"topic\": \"parrot\"}):\n",
    "    print(chunk, end=\"|\", flush=True)\n",
    "    print()"
   ]
  },
  {
   "cell_type": "markdown",
   "id": "4c964870",
   "metadata": {},
   "source": [
    "# Working with input streams"
   ]
  },
  {
   "cell_type": "code",
   "execution_count": 42,
   "id": "31387d1b",
   "metadata": {},
   "outputs": [
    {
     "name": "stdout",
     "output_type": "stream",
     "text": [
      "{}\n",
      "{'Naruto Series': [{}]}\n",
      "{'Naruto Series': [{'name': 'Gaara', 'village': 'Sunagakure'}]}\n",
      "{'Naruto Series': [{'name': 'Gaara', 'village': 'Sunagakure'}, {'name': 'Shino Aburame', 'village': 'Konohagakure'}, {}]}\n",
      "{'Naruto Series': [{'name': 'Gaara', 'village': 'Sunagakure'}, {'name': 'Shino Aburame', 'village': 'Konohagakure'}, {'name': 'Kisame Hoshigaki', 'village': 'Kirigakure'}, {'name': ''}]}\n",
      "{'Naruto Series': [{'name': 'Gaara', 'village': 'Sunagakure'}, {'name': 'Shino Aburame', 'village': 'Konohagakure'}, {'name': 'Kisame Hoshigaki', 'village': 'Kirigakure'}, {'name': 'Temari', 'village': 'Sunagakure'}, {'name': 'Choji Akimichi', 'village': 'Konohagakure'}]}\n"
     ]
    }
   ],
   "source": [
    "# stream json\n",
    "from langchain_core.output_parsers import JsonOutputParser\n",
    "chain = (\n",
    "    model | JsonOutputParser()\n",
    ")\n",
    "async for chunk in chain.astream(\n",
    "    \"output a list of 5 random chracters from Naruto and their villages in json format\"\n",
    "    'Use a dict with an outer key of \"Naruto Series\" which contains a list of characters '\n",
    "    \"Each character should have the key 'name' and 'village'\"   \n",
    "):\n",
    "    print(chunk, flush=True)"
   ]
  },
  {
   "cell_type": "code",
   "execution_count": 66,
   "id": "ba00cdcd",
   "metadata": {},
   "outputs": [
    {
     "name": "stdout",
     "output_type": "stream",
     "text": [
      "['Sunagakure', 'Konohagakure', 'Kirigakure', 'Sunagakure', 'Konohagakure']|"
     ]
    }
   ],
   "source": [
    "from langchain_core.output_parsers import JsonOutputParser\n",
    "\n",
    "# a function that operates on finalized inputs rather than on an input_stream\n",
    "def _extract_villages(inputs):\n",
    "    \"\"\" A function that does not operates on input streams and break stream \"\"\"\n",
    "    \"\"\"\n",
    "        Args:\n",
    "    \"\"\"\n",
    "    if not isinstance(inputs, dict):\n",
    "        return \"\"\n",
    "    if \"Naruto Series\" not in inputs:\n",
    "        return \"\"\n",
    "    characters = inputs[\"Naruto Series\"]\n",
    "    if not isinstance(characters, list):\n",
    "        return \"\"\n",
    "    \n",
    "    village_names = [\n",
    "        character.get('village') for character in characters if isinstance(character, dict) \n",
    "    ]\n",
    "    character_names = [\n",
    "        character.get('name') for character in characters if isinstance(character, dict)\n",
    "    ]\n",
    "    return village_names, character_names\n",
    "\n",
    "chain = model | JsonOutputParser() | _extract_villages\n",
    "\n",
    "async for chunk in chain.astream(\n",
    "    \"output a list of 5 random chracters from Naruto and their villages in json format\"\n",
    "    'Use a dict with an outer key of \"Naruto Series\" which contains a list of characters '\n",
    "    \"Each character should have the key 'name' and 'village'\" \n",
    "):\n",
    "    print(chunk[0], end=\"|\", flush=True)"
   ]
  },
  {
   "cell_type": "markdown",
   "id": "5a3df69b",
   "metadata": {},
   "source": [
    "## Generator Functions\n",
    "Let's fix the streaming using a generator function that can operate on the **input stream**\n"
   ]
  },
  {
   "cell_type": "code",
   "execution_count": 71,
   "id": "aefaf44d",
   "metadata": {},
   "outputs": [
    {
     "name": "stdout",
     "output_type": "stream",
     "text": [
      "Temari - Sunagakure|\n",
      "Kiba Inuzuka - Konohagakure|\n",
      "Choji Akimichi - Konohagakure|\n",
      "Sasori - Sunagakure|\n",
      "Kisame Hoshigaki - Kirigakure|\n"
     ]
    }
   ],
   "source": [
    "from langchain_core.output_parsers import StrOutputParser, JsonOutputParser\n",
    "\n",
    "async def _extract_villages_streaming(input_stream):\n",
    "    \"\"\" A function that operates on input streams\"\"\"\n",
    "    character_names_so_far = set()\n",
    "    village_names_so_far = set()\n",
    "\n",
    "    async for input in input_stream:\n",
    "        if not isinstance(input, dict):\n",
    "            continue\n",
    "        if \"Naruto Series\" not in input:\n",
    "            continue\n",
    "        characters = input[\"Naruto Series\"]\n",
    "\n",
    "        if not isinstance(characters, list):\n",
    "            continue\n",
    "\n",
    "        for character in characters:\n",
    "            if not isinstance(character, dict):\n",
    "                continue\n",
    "            village_name = character.get('village')\n",
    "            character_name = character.get('name')\n",
    "            # if not village_name:\n",
    "            #     continue\n",
    "            # if village_name not in village_names_so_far:\n",
    "            #     yield village_name\n",
    "            #     village_names_so_far.add(village_name)\n",
    "\n",
    "            if not character_name or  not village_name:\n",
    "                continue\n",
    "            if character_name not in character_names_so_far or village_name not in village_names_so_far:\n",
    "                yield {\n",
    "                    \"name\": character_name,\n",
    "                    \"village\": village_name\n",
    "                }\n",
    "                character_names_so_far.add(character_name)\n",
    "                village_names_so_far.add(village_name)\n",
    "\n",
    "chain = model | JsonOutputParser() | _extract_villages_streaming\n",
    "\n",
    "async for chunk in chain.astream(\n",
    "    \"output a list of 5 random characters from Naruto and their villages in json format\"\n",
    "    'Use a dict with an outer key of \"Naruto Series\" which contains a list of characters '\n",
    "    \"Each character should have the key 'name' and 'village'\" \n",
    "):\n",
    "    print(chunk.get('name') , \"-\", chunk.get('village'), end=\"|\\n\", flush=True)\n"
   ]
  },
  {
   "cell_type": "markdown",
   "id": "e07360fa",
   "metadata": {},
   "source": [
    "# Non-streaming components\n",
    "\n",
    "Some built-in components like retrievers do not offer any `streaming`. What happens if we try to stream them?"
   ]
  },
  {
   "cell_type": "code",
   "execution_count": 82,
   "id": "9e85775c",
   "metadata": {},
   "outputs": [
    {
     "name": "stdout",
     "output_type": "stream",
     "text": [
      "[INFO] Created a vector search index on the collection 'RAG-Chatbot-Collection' in the database 'RAG-Chatbot-Cluster'!\n"
     ]
    }
   ],
   "source": [
    "from langchain_mongodb import MongoDBAtlasVectorSearch\n",
    "from pymongo import MongoClient\n",
    "\n",
    "from dotenv import load_dotenv, find_dotenv\n",
    "\n",
    "\n",
    "load_dotenv(find_dotenv(), override=True)\n",
    "MONGODB_ATLAS_CLUSTER_URI = os.getenv(\"MONGODB_ATLAS_CLUSTER_URI\")\n",
    "client = MongoClient(\n",
    "    MONGODB_ATLAS_CLUSTER_URI\n",
    ")\n",
    "DB_NAME = \"RAG-Chatbot-Cluster\"\n",
    "COLLECTION_NAME = \"RAG-Chatbot-Collection\"\n",
    "ATLAS_VECTOR_SEARCH_INDEX_NAME = \"RAG-Chatbot-Index\"\n",
    "\n",
    "MONGODB_COLLECTION = client[DB_NAME][COLLECTION_NAME]\n",
    "\n",
    "vector_store = MongoDBAtlasVectorSearch(\n",
    "    collection=MONGODB_COLLECTION,\n",
    "    embedding=embeddings,\n",
    "    index_name=ATLAS_VECTOR_SEARCH_INDEX_NAME,\n",
    "    relevance_score_fn=\"cosine\"\n",
    ")\n",
    "# create a vector search index on the collection\n",
    "vector_store.create_vector_search_index(dimensions=768)\n",
    "print(f\"[INFO] Created a vector search index on the collection '{COLLECTION_NAME}' in the database '{DB_NAME}'!\")"
   ]
  },
  {
   "cell_type": "code",
   "execution_count": 95,
   "id": "6917399d",
   "metadata": {},
   "outputs": [
    {
     "data": {
      "text/plain": [
       "[[Document(id='6f10eb13-af01-4229-85a1-6ddfcaedea2e', metadata={'_id': '6f10eb13-af01-4229-85a1-6ddfcaedea2e', 'source': 'Naruto Series'}, page_content=\"Naruto Uzumaki is a genin from the Hidden Leaf village. He is known for his 'never-listening' attitude of him.\")]]"
      ]
     },
     "execution_count": 95,
     "metadata": {},
     "output_type": "execute_result"
    }
   ],
   "source": [
    "from langchain_core.output_parsers import StrOutputParser\n",
    "from langchain_core.prompts import ChatPromptTemplate\n",
    "from langchain_core.runnables import RunnablePassthrough\n",
    "from langchain_google_genai import GoogleGenerativeAIEmbeddings\n",
    "from langchain_core.documents import Document\n",
    "from langchain_mongodb import MongoDBAtlasVectorSearch\n",
    "from pymongo import MongoClient\n",
    "from uuid import uuid4\n",
    "from dotenv import load_dotenv, find_dotenv\n",
    "\n",
    "\n",
    "load_dotenv(find_dotenv(), override=True)\n",
    "embeddings = GoogleGenerativeAIEmbeddings(\n",
    "    model=\"models/text-embedding-004\",\n",
    "    google_api_key=os.getenv(\"GOOGLE_API_KEY\")\n",
    ")\n",
    "\n",
    "template = \"\"\"Answer the question based only on the following context: {context}\n",
    "\n",
    "Question: {question}\n",
    "\"\"\"\n",
    "\n",
    "prompt = ChatPromptTemplate.from_messages(\n",
    "    (\"human\", \"Answer the question based only on the following context: {context}\\n\\nQuestion: {question}\")\n",
    ")\n",
    "documents = [\n",
    "    Document(\n",
    "        page_content=\"Naruto Uzumaki is a genin from the Hidden Leaf village. He is known for his 'never-listening' attitude of him.\",\n",
    "        metadata ={ \"source\": \"Naruto Series\"}\n",
    "    ),\n",
    "    Document(\n",
    "        page_content=\"Sasuke Uchiha is a prodigy from Uchiha clan. But he was lost in the darkk because of his hatred towards his brother.\",\n",
    "        metadata = {\"source\": \"Naruto Series\"}\n",
    "    )\n",
    "]\n",
    "ids = [str(uuid4()) for _ in range(len(documents))]\n",
    "\n",
    "vector_store.add_documents(\n",
    "    documents=documents,\n",
    "    ids=ids\n",
    ")\n",
    "\n",
    "retriever = vector_store.as_retriever(\n",
    "    search_type=\"similarity_score_threshold\",\n",
    "    search_kwargs={\"k\": 1, \"score_threshold\": 0.2},\n",
    ")\n",
    "\n",
    "chunks = [chunk for chunk in retriever.stream(\"Who is Naruto Uzumaki?\")]\n",
    "chunks"
   ]
  },
  {
   "cell_type": "code",
   "execution_count": 96,
   "id": "650aeaa6",
   "metadata": {},
   "outputs": [],
   "source": [
    "retrieval_chain = (\n",
    "    {\n",
    "        \"context\": retriever.with_config(run_name=\"Docs\"),\n",
    "        \"question\": RunnablePassthrough(),\n",
    "    }\n",
    "    | prompt\n",
    "    | model\n",
    "    | StrOutputParser()\n",
    ")\n"
   ]
  },
  {
   "cell_type": "code",
   "execution_count": 97,
   "id": "6ed4bbb5",
   "metadata": {},
   "outputs": [
    {
     "name": "stdout",
     "output_type": "stream",
     "text": [
      "Nar|uto Uzum|aki is a genin from the Hidden Leaf village. He is known for his| 'never-listening' attitude of him.|"
     ]
    }
   ],
   "source": [
    "for chunk in retrieval_chain.stream(\n",
    "    \"Who is Naruto Uzumaki?\"\n",
    "):\n",
    "    print(chunk, end=\"|\", flush=True)"
   ]
  }
 ],
 "metadata": {
  "kernelspec": {
   "display_name": "venv",
   "language": "python",
   "name": "python3"
  },
  "language_info": {
   "codemirror_mode": {
    "name": "ipython",
    "version": 3
   },
   "file_extension": ".py",
   "mimetype": "text/x-python",
   "name": "python",
   "nbconvert_exporter": "python",
   "pygments_lexer": "ipython3",
   "version": "3.12.3"
  }
 },
 "nbformat": 4,
 "nbformat_minor": 5
}
