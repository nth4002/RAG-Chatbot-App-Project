{
 "cells": [
  {
   "cell_type": "code",
   "execution_count": null,
   "id": "97e39874",
   "metadata": {},
   "outputs": [
    {
     "name": "stderr",
     "output_type": "stream",
     "text": [
      "/home/phucuy2025/RAG-Chatbot/venv/lib/python3.12/site-packages/tqdm/auto.py:21: TqdmWarning: IProgress not found. Please update jupyter and ipywidgets. See https://ipywidgets.readthedocs.io/en/stable/user_install.html\n",
      "  from .autonotebook import tqdm as notebook_tqdm\n"
     ]
    }
   ],
   "source": [
    "from langchain_google_genai import ChatGoogleGenerativeAI\n",
    "from langchain_core.output_parsers import StrOutputParser\n",
    "from langchain_core.prompts import ChatPromptTemplate, MessagesPlaceholder\n",
    "from langchain.chains import create_history_aware_retriever, create_retrieval_chain\n",
    "from langchain.chains.combine_documents import create_stuff_documents_chain\n",
    "from typing import List\n",
    "from langchain_core.documents import Document\n",
    "import os\n",
    "import logging\n",
    "from dotenv import load_dotenv, find_dotenv\n",
    "import sys\n",
    "sys.path.append(\"/home/phucuy2025/RAG-Chatbot/api\")\n",
    "sys.path.append(\"/home/phucuy2025/RAG-Chatbot\")\n",
    "load_dotenv(find_dotenv(), override=True)\n",
    "GOOGLE_API_KEY = os.environ.get(\"GOOGLE_API_KEY\")\n",
    "\n",
    "from api.vector_store_utils import vector_store\n",
    "# retriever = vector_store.as_retriever(search_kwargs={\"k\": 2})\n",
    "retriever = vector_store.as_retriever(\n",
    "    search_type=\"similarity_score_threshold\",\n",
    "    search_kwargs={\"k\": 3, \"score_threshold\": 0.5},\n",
    ")\n",
    "output_parser = StrOutputParser()\n",
    "\n",
    "logging.basicConfig(filename=\"rag_chatbot_app.log\", level=logging.INFO)\n",
    "\n",
    "\n",
    "# Set up prompts and chains\n",
    "contextualize_q_system_prompt = (\n",
    "    \"Given a chat history and the latest user question \"\n",
    "    \"which might reference context in the chat history, \"\n",
    "    \"formulate a standalone question which can be understood \"\n",
    "    \"without the chat history. Do NOT answer the question, \"\n",
    "    \"just reformulate it if needed and otherwise return it as is.\"\n",
    ")\n",
    "\n",
    "contextualize_q_prompt = ChatPromptTemplate([\n",
    "    (\"system\", contextualize_q_system_prompt),\n",
    "    MessagesPlaceholder(\"chat_history\"),\n",
    "    (\"human\", \"{input}\"),\n",
    "])\n",
    "\n",
    "# system_prompt = (\n",
    "#     \"You are an assistant for question-answering tasks. \"\n",
    "#     \"Use the following pieces of retrieved context to answer \"\n",
    "#     \"the question. If you don't know the answer, say that you \"\n",
    "#     \"don't know. Use three sentences maximum and keep the \"\n",
    "#     \"answer concise.\"\n",
    "#     \"\\n\\n\"\n",
    "#     \"{context}\"\n",
    "# )\n",
    "\n",
    "system_prompt = (\n",
    "    \"Bạn là trợ lý cho các nhiệm vụ trả lời câu hỏi. \"\n",
    "    \"Sử dụng các phần ngữ cảnh sau đây để trả lời \"\n",
    "    \"câu hỏi. Nếu bạn không biết câu trả lời, hãy nói rằng bạn \"\n",
    "    \"không biết. Sử dụng tối đa ba câu và giữ cho câu trả lời ngắn gọn.\"\n",
    "     \"\\n\\n\"\n",
    "    \"{context}\"\n",
    ")\n",
    "\n",
    "qa_prompt = ChatPromptTemplate(\n",
    "    [\n",
    "        (\"system\", system_prompt),\n",
    "        MessagesPlaceholder(\"chat_history\"),\n",
    "        (\"human\", \"{input}\"),\n",
    "    ]\n",
    ")\n",
    "\n",
    "\n",
    "\n",
    "def get_rag_chain(model=\"gemini-2.0-flash-001\"):\n",
    "    llm = ChatGoogleGenerativeAI(model=model, google_api_key=GOOGLE_API_KEY)\n",
    "    history_aware_retriever = create_history_aware_retriever(llm, retriever, contextualize_q_prompt)\n",
    "    question_answer_chain = create_stuff_documents_chain(llm, qa_prompt)\n",
    "    rag_chain = create_retrieval_chain(history_aware_retriever, question_answer_chain)\n",
    "    return rag_chain"
   ]
  },
  {
   "cell_type": "code",
   "execution_count": null,
   "id": "8c2d96ba",
   "metadata": {},
   "outputs": [
    {
     "data": {
      "text/plain": [
       "{'input': 'Nói cho tôi biết về địa đạo Củ Chi',\n",
       " 'chat_history': [],\n",
       " 'context': [],\n",
       " 'answer': 'Địa đạo Củ Chi là một mạng lưới đường hầm kết nối nằm ở quận Củ Chi, Thành phố Hồ Chí Minh, Việt Nam. Các đường hầm được xây dựng trong Chiến tranh Việt Nam và từng là căn cứ hoạt động của Việt Cộng. Du khách có thể bò qua các đoạn đường hầm an toàn hơn.'}"
      ]
     },
     "execution_count": 2,
     "metadata": {},
     "output_type": "execute_result"
    }
   ],
   "source": [
    "import uuid\n",
    "from api.new_db_util import (\n",
    "    insert_application_logs, \n",
    "    get_chat_history, \n",
    "    get_all_documents, \n",
    "    insert_document_record, \n",
    "    delete_document_record,\n",
    "    create_application_logs,\n",
    "    create_document_store\n",
    ")\n",
    "\n",
    "session_id = str(uuid.uuid4())\n",
    "chat_history = get_chat_history(session_id)\n",
    "\n",
    "rag_chain = get_rag_chain()\n",
    "\n",
    "answer = rag_chain.invoke({\n",
    "    \"input\": \"Nói cho tôi biết về địa đạo Củ Chi\",\n",
    "    \"chat_history\": chat_history\n",
    "})\n",
    "\n",
    "answer"
   ]
  },
  {
   "cell_type": "code",
   "execution_count": 9,
   "id": "c009f5f7",
   "metadata": {},
   "outputs": [
    {
     "name": "stdout",
     "output_type": "stream",
     "text": [
      "{'answer': 'Địa đạo Củ Chi là một hệ thống đường hầm rộng lớn ở Việt Nam, được sử dụng bởi các chiến binh Việt Cộng trong Chiến tranh Việt Nam. Các đường hầm được sử dụng làm nơi ẩn náu, thông tin liên lạc và tiếp tế, bệnh viện và khu sinh hoạt cho các chiến binh Việt Cộng. Ngày nay, địa đạo Củ Chi là một điểm thu hút khách du lịch nổi tiếng.', 'session_id': '2b192f3d-f63f-43c9-bf9b-831409a5e903', 'model': 'gemini-2.0-flash-001'}\n",
      "\n",
      "2b192f3d-f63f-43c9-bf9b-831409a5e903\n"
     ]
    },
    {
     "data": {
      "text/plain": [
       "[]"
      ]
     },
     "execution_count": 9,
     "metadata": {},
     "output_type": "execute_result"
    }
   ],
   "source": [
    "import requests\n",
    "\n",
    "def get_api_response(question, session_id, model):\n",
    "    headers = {'accept': 'application/json', 'Content-Type': 'application/json'}\n",
    "    data = {'question': question, 'model': model}\n",
    "    if session_id:\n",
    "        data['session_id'] = session_id\n",
    "    \n",
    "    try:\n",
    "        response = requests.post(\"http://localhost:8000/chat\", headers=headers, json=data)\n",
    "        if response.status_code == 200:\n",
    "            return response.json()\n",
    "        else:\n",
    "            print(f\"API request failed with status code {response.status_code}: {response.text}\")\n",
    "            return None\n",
    "    except Exception as e:\n",
    "        print(f\"an error occurred: {str(e)}\")\n",
    "        return None\n",
    "tmp = get_api_response(\"Nói cho tôi biết về địa đạo Củ Chi\", None, \"gemini-2.0-flash-001\")\n",
    "print(tmp)\n",
    "print()\n",
    "session_id = tmp.get('session_id')\n",
    "print(session_id)\n",
    "chat_history = get_chat_history(session_id)\n",
    "chat_history"
   ]
  },
  {
   "cell_type": "code",
   "execution_count": 5,
   "id": "fb67bc14",
   "metadata": {},
   "outputs": [
    {
     "name": "stdout",
     "output_type": "stream",
     "text": [
      "703f2db1-6375-46d8-ae86-6b46a7f3fbbd\n"
     ]
    },
    {
     "data": {
      "text/plain": [
       "[]"
      ]
     },
     "execution_count": 5,
     "metadata": {},
     "output_type": "execute_result"
    }
   ],
   "source": []
  },
  {
   "cell_type": "code",
   "execution_count": 1,
   "id": "b767612a",
   "metadata": {},
   "outputs": [
    {
     "ename": "ImportError",
     "evalue": "cannot import name 'BaseChatMessageHisotry' from 'langchain_core.chat_history' (/home/phucuy2025/RAG-Chatbot/venv/lib/python3.12/site-packages/langchain_core/chat_history.py)",
     "output_type": "error",
     "traceback": [
      "\u001b[31m---------------------------------------------------------------------------\u001b[39m",
      "\u001b[31mImportError\u001b[39m                               Traceback (most recent call last)",
      "\u001b[36mCell\u001b[39m\u001b[36m \u001b[39m\u001b[32mIn[1]\u001b[39m\u001b[32m, line 1\u001b[39m\n\u001b[32m----> \u001b[39m\u001b[32m1\u001b[39m \u001b[38;5;28;01mfrom\u001b[39;00m\u001b[38;5;250m \u001b[39m\u001b[34;01mlangchain_core\u001b[39;00m\u001b[34;01m.\u001b[39;00m\u001b[34;01mchat_history\u001b[39;00m\u001b[38;5;250m \u001b[39m\u001b[38;5;28;01mimport\u001b[39;00m (\n\u001b[32m      2\u001b[39m     BaseChatMessageHisotry,\n\u001b[32m      3\u001b[39m     InMemoryChatMessageHistory\n\u001b[32m      4\u001b[39m )\n",
      "\u001b[31mImportError\u001b[39m: cannot import name 'BaseChatMessageHisotry' from 'langchain_core.chat_history' (/home/phucuy2025/RAG-Chatbot/venv/lib/python3.12/site-packages/langchain_core/chat_history.py)"
     ]
    }
   ],
   "source": [
    "from langchain_core.chat_history import (\n",
    "    BaseChatMessageHisotry,\n",
    "    InMemoryChatMessageHistory\n",
    ")"
   ]
  }
 ],
 "metadata": {
  "kernelspec": {
   "display_name": "venv",
   "language": "python",
   "name": "python3"
  },
  "language_info": {
   "codemirror_mode": {
    "name": "ipython",
    "version": 3
   },
   "file_extension": ".py",
   "mimetype": "text/x-python",
   "name": "python",
   "nbconvert_exporter": "python",
   "pygments_lexer": "ipython3",
   "version": "3.12.3"
  }
 },
 "nbformat": 4,
 "nbformat_minor": 5
}
